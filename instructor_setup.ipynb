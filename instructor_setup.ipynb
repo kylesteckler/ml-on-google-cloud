{
 "cells": [
  {
   "cell_type": "markdown",
   "id": "3bb15fe6-390a-44ae-ac55-83aa7b4a4c9a",
   "metadata": {},
   "source": [
    "## Machine Learning on Google Cloud Asset Creation \n",
    "This notebook will automatically perform the steps of labs in this course that take a long time to run, so you as an instructor can show/demo the environment of a successful lab run. The idea is that by doing this ahead of time you can get familiar with the end results, and not have to spend hours of class time waiting for resources and assets to be created (managed datasets, AutoML models, etc)."
   ]
  },
  {
   "cell_type": "code",
   "execution_count": null,
   "id": "c62834ed-d553-47c1-bf36-d866fc0d032c",
   "metadata": {},
   "outputs": [],
   "source": [
    "# Setup your dependencies\n",
    "import os\n",
    "\n",
    "# The Google Cloud Notebook product has specific requirements\n",
    "IS_GOOGLE_CLOUD_NOTEBOOK = os.path.exists(\"/opt/deeplearning/metadata/env_version\")\n",
    "\n",
    "# Google Cloud Notebook requires dependencies to be installed with '--user'\n",
    "USER_FLAG = \"\"\n",
    "if IS_GOOGLE_CLOUD_NOTEBOOK:\n",
    "    USER_FLAG = \"--user\"\n",
    "\n",
    "# Upgrade the specified package to the newest available version\n",
    "! pip install {USER_FLAG} --upgrade google-cloud-aiplatform google-cloud-storage jsonlines"
   ]
  },
  {
   "cell_type": "markdown",
   "id": "db9904e7-5496-44d0-b7c4-6348d69aeebc",
   "metadata": {},
   "source": [
    "#### Restart Your Kernel before moving forward"
   ]
  },
  {
   "cell_type": "markdown",
   "id": "baa5ef12-7f69-4dd0-aa2a-623940064aaf",
   "metadata": {},
   "source": [
    "### Creates Vertex AI Managed Datasets\n",
    "* Image Dataset of flowers for single-label classification\n",
    "* Video Dataset of actions for video-classification\n",
    "* Tabular Dataset for pet adoption classification "
   ]
  },
  {
   "cell_type": "code",
   "execution_count": null,
   "id": "69e4d2f6-14a0-4d6c-9a4e-2bf881dd32f2",
   "metadata": {},
   "outputs": [],
   "source": [
    "# Set project id and initialize Vertex AI via Python SDK \n",
    "import os \n",
    "from google.cloud import aiplatform\n",
    "from datetime import datetime\n",
    "TIMESTAMP = datetime.now().strftime(\"%Y%m%d%H%M%S\")\n",
    "\n",
    "# Get your Google Cloud project ID from gcloud\n",
    "if not os.getenv(\"IS_TESTING\"):\n",
    "    shell_output=!gcloud config list --format 'value(core.project)' 2>/dev/null\n",
    "    PROJECT_ID = shell_output[0]\n",
    "    \n",
    "aiplatform.init(project=PROJECT_ID, location=\"us-central1\")\n",
    "\n",
    "# Flower Image Dataset - Lab 1\n",
    "flower_src = \"gs://cloud-samples-data/ai-platform/flowers/flowers.csv\"\n",
    "\n",
    "flower_dataset = aiplatform.ImageDataset.create(\n",
    "    display_name=\"flowers\"\n",
    ")\n",
    "\n",
    "flower_dataset.import_data(\n",
    "    gcs_source=flower_src,\n",
    "    import_schema_uri=\"gs://google-cloud-aiplatform/schema/dataset/ioformat/image_classification_single_label_io_format_1.0.0.yaml\",\n",
    "    sync=False\n",
    ")\n",
    "\n",
    "# Video Action Dataset - Lab 2\n",
    "video_src = \"gs://automl-video-demo-data/hmdb_split1_5classes_all.csv\"\n",
    "\n",
    "video_dataset = aiplatform.VideoDataset.create(\n",
    "    display_name=\"action_clips\"\n",
    ")\n",
    "\n",
    "video_dataset.import_data(\n",
    "    gcs_source=video_src,\n",
    "    import_schema_uri=\"gs://google-cloud-aiplatform/schema/dataset/ioformat/video_classification_io_format_1.0.0.yaml\",\n",
    "    sync=False\n",
    ")\n",
    "\n",
    "# Tabular Dataset - Lab 3\n",
    "!gsutil mb -l us-central1 gs://$PROJECT_ID\n",
    "IMPORT_FILE = \"petfinder-tabular-classification.csv\"\n",
    "!gsutil cp gs://cloud-samples-data/ai-platform-unified/datasets/tabular/{IMPORT_FILE} gs://{PROJECT_ID}/data/\n",
    "\n",
    "tabular_src = f\"gs://{PROJECT_ID}/data/{IMPORT_FILE}\"\n",
    "\n",
    "aiplatform.TabularDataset.create(\n",
    "    display_name=\"petfinder-tabular-dataset\",\n",
    "    gcs_source=tabular_src,\n",
    "    sync=False\n",
    ")"
   ]
  },
  {
   "cell_type": "markdown",
   "id": "90fbd2f3-c254-451e-801d-9a8fa4a969c8",
   "metadata": {},
   "source": [
    "#### WAIT. Do not go on until datasets have finished importing the data. ~15-20 minutes."
   ]
  },
  {
   "cell_type": "markdown",
   "id": "65aa12a8-f4d9-4e12-a9b6-4ef8a75874e6",
   "metadata": {},
   "source": [
    "### Trains AutoML Models\n",
    "* Flower Image Classification (from Image Dataset)\n",
    "* Video Classification (from Video Dataset)\n",
    "* Pet adoption "
   ]
  },
  {
   "cell_type": "code",
   "execution_count": null,
   "id": "de8e7f19-20a8-41be-83db-d04110ac4188",
   "metadata": {},
   "outputs": [],
   "source": [
    "# Set project id and initialize Vertex AI via Python SDK \n",
    "import os \n",
    "from google.cloud import aiplatform\n",
    "from datetime import datetime\n",
    "TIMESTAMP = datetime.now().strftime(\"%Y%m%d%H%M%S\")\n",
    "\n",
    "# Get your Google Cloud project ID from gcloud\n",
    "if not os.getenv(\"IS_TESTING\"):\n",
    "    shell_output=!gcloud config list --format 'value(core.project)' 2>/dev/null\n",
    "    PROJECT_ID = shell_output[0]\n",
    "    \n",
    "aiplatform.init(project=PROJECT_ID, location=\"us-central1\")\n",
    "\n",
    "import os \n",
    "from google.cloud import aiplatform\n",
    "from datetime import datetime\n",
    "TIMESTAMP = datetime.now().strftime(\"%Y%m%d%H%M%S\")\n",
    "\n",
    "# Get your Google Cloud project ID from gcloud\n",
    "if not os.getenv(\"IS_TESTING\"):\n",
    "    shell_output=!gcloud config list --format 'value(core.project)' 2>/dev/null\n",
    "    PROJECT_ID = shell_output[0]\n",
    "    \n",
    "aiplatform.init(project=PROJECT_ID, location=\"us-central1\")\n",
    "\n",
    "# Flower model - Lab 1\n",
    "flower_id = aiplatform.ImageDataset.list(filter='display_name=\"flowers\"')[0].resource_name\n",
    "flower_dataset = aiplatform.ImageDataset(flower_id)\n",
    "\n",
    "flowers_job = aiplatform.AutoMLImageTrainingJob(\n",
    "    display_name=f'flowers-training-job-{TIMESTAMP}'\n",
    ")\n",
    "\n",
    "flowers_job.run(\n",
    "    dataset=flower_dataset,\n",
    "    sync=False\n",
    ")\n",
    "\n",
    "# Video classification model - Lab 2\n",
    "video_id = aiplatform.VideoDataset.list(filter='display_name=\"action_clips\"')[0].resource_name\n",
    "video_dataset = aiplatform.VideoDataset(video_id)\n",
    "\n",
    "video_job = aiplatform.AutoMLVideoTrainingJob(\n",
    "    display_name=f'video-training-job-{TIMESTAMP}'\n",
    ")\n",
    "\n",
    "video_job.run(\n",
    "    dataset=video_dataset,\n",
    "    sync=False\n",
    ")\n",
    "\n",
    "# Pet adoption model (tabular) - Lab 3\n",
    "tabular_id =aiplatform.TabularDataset.list(filter='display_name=\"petfinder-tabular-dataset\"')[0].resource_name\n",
    "tabular_dataset = aiplatform.TabularDataset(tabular_id)\n",
    "\n",
    "tabular_job = aiplatform.AutoMLTabularTrainingJob(\n",
    "    display_name=f'petfinder-training-job-{TIMESTAMP}',\n",
    "    optimization_prediction_type='classification'\n",
    ")\n",
    "\n",
    "tabular_job.run(\n",
    "    dataset=tabular_dataset,\n",
    "    target_column='Adopted',\n",
    "    sync=False\n",
    ")"
   ]
  },
  {
   "cell_type": "markdown",
   "id": "c3240da7-a2c4-4794-81bb-fb4a4e1eed33",
   "metadata": {},
   "source": [
    "### BigQuery ML Models\n",
    "* Penguin Body Mass Model - Lab 8 \n",
    "* Taxi Tip Prediciton w/ Hyperparam tuning - Lab 9"
   ]
  },
  {
   "cell_type": "code",
   "execution_count": null,
   "id": "c64e99b0-6ed1-4893-870b-72b750366f7c",
   "metadata": {},
   "outputs": [],
   "source": [
    "# Create the dataset \n",
    "!bq --location=us mk bqml_tutorial "
   ]
  },
  {
   "cell_type": "markdown",
   "id": "e56cf8ea-68f4-4fa3-b1f2-5b9191b2792f",
   "metadata": {},
   "source": [
    "#### Train Penguin Model (~5 minutes)"
   ]
  },
  {
   "cell_type": "code",
   "execution_count": null,
   "id": "b8073175-9e9d-4de9-bee8-85b0f7f24134",
   "metadata": {},
   "outputs": [],
   "source": [
    "%%bigquery\n",
    "CREATE OR REPLACE MODEL `bqml_tutorial.penguins_model`\n",
    "OPTIONS\n",
    "  (model_type='linear_reg',\n",
    "    input_label_cols=['body_mass_g']) AS\n",
    "SELECT\n",
    "  *\n",
    "FROM\n",
    "  `bigquery-public-data.ml_datasets.penguins`\n",
    "WHERE\n",
    "  body_mass_g IS NOT NULL"
   ]
  },
  {
   "cell_type": "markdown",
   "id": "383132f2-fac1-40ec-b568-5e4f76e99875",
   "metadata": {},
   "source": [
    "#### Train Taxi Tip Model "
   ]
  },
  {
   "cell_type": "code",
   "execution_count": null,
   "id": "839ecb35-a262-4488-a0e0-c48f41035417",
   "metadata": {},
   "outputs": [],
   "source": [
    "%%bigquery\n",
    "CREATE TABLE `bqml_tutorial.taxi_tip_input` AS\n",
    "SELECT\n",
    "  * EXCEPT(tip_amount), tip_amount AS label\n",
    "FROM\n",
    "  `bigquery-public-data.new_york_taxi_trips.tlc_yellow_trips_2018`\n",
    "WHERE\n",
    "  tip_amount IS NOT NULL\n",
    "LIMIT 100000;\n",
    "\n",
    "CREATE MODEL `bqml_tutorial.hp_taxi_tip_model`\n",
    "OPTIONS\n",
    "  (model_type='linear_reg',\n",
    "   num_trials=20,\n",
    "   max_parallel_trials=2) AS\n",
    "SELECT\n",
    "  *\n",
    "FROM\n",
    "  `bqml_tutorial.taxi_tip_input`"
   ]
  }
 ],
 "metadata": {
  "environment": {
   "kernel": "python3",
   "name": "tf2-gpu.2-6.m87",
   "type": "gcloud",
   "uri": "gcr.io/deeplearning-platform-release/tf2-gpu.2-6:m87"
  },
  "kernelspec": {
   "display_name": "Python 3",
   "language": "python",
   "name": "python3"
  },
  "language_info": {
   "codemirror_mode": {
    "name": "ipython",
    "version": 3
   },
   "file_extension": ".py",
   "mimetype": "text/x-python",
   "name": "python",
   "nbconvert_exporter": "python",
   "pygments_lexer": "ipython3",
   "version": "3.7.12"
  }
 },
 "nbformat": 4,
 "nbformat_minor": 5
}
